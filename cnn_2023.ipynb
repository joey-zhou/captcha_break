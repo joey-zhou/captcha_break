{
 "cells": [
  {
   "cell_type": "code",
   "execution_count": 1,
   "metadata": {},
   "outputs": [],
   "source": [
    "# 防止tensorflow占满显存\n",
    "import tensorflow as tf\n",
    "gpus = tf.config.list_physical_devices('GPU')\n",
    "for gpu in gpus:\n",
    "    tf.config.experimental.set_memory_growth(gpu, True)"
   ]
  },
  {
   "cell_type": "code",
   "execution_count": 2,
   "metadata": {},
   "outputs": [],
   "source": [
    "\n",
    "import cv2, numpy as np, matplotlib.pyplot as plt\n",
    "from matplotlib.font_manager import FontProperties\n",
    "import string\n",
    "from PIL import Image, ImageDraw, ImageFont\n",
    "# from IPython.display import Image as im\n",
    "# font = FontProperties(fname='三极正黑体.ttf')\n",
    "class get_captcha():\n",
    "    def __init__(self, width, height, length):\n",
    "        self.width = width\n",
    "        self.height = height\n",
    "        self.length = length\n",
    "    \n",
    "    def __get_color__(self):\n",
    "        return (np.random.randint(0, 255) , np.random.randint(0, 255), np.random.randint(0, 255))\n",
    "    \n",
    "    def __get_pos__(self, x_start, x_end, y_start, y_end):\n",
    "        return np.random.randint(x_start, x_end), np.random.randint(y_start, y_end)\n",
    "\n",
    "    def get_image(self, num, gbk_index):\n",
    "        img = np.zeros((self.height, self.width, 3), np.uint8)\n",
    "        img.fill(255)\n",
    "        # 验证码开始地址\n",
    "        x_start = 18\n",
    "        # 汉字验证码位置\n",
    "        next_pos = 18\n",
    "        line_num = np.random.randint(3, 9)\n",
    "        # 画干扰线\n",
    "        for j in range(line_num):\n",
    "            cv2.line(img, self.__get_pos__(0, self.width, 0, self.height), self.__get_pos__(0, self.width, 0, self.height), self.__get_color__(), 1, cv2.LINE_8)\n",
    "        # 画验证码\n",
    "        for j in range(self.length):\n",
    "            pos = next_pos\n",
    "            font_size = 28\n",
    "            font = '汉仪旗黑-50.ttf'\n",
    "            y_pos = -10\n",
    "            # 汉字位置\n",
    "            if gbk_index == j:\n",
    "                font_size = 22\n",
    "                font = '汉仪字典宋.ttf'\n",
    "                pos = pos - np.random.randint(3, 5)\n",
    "                y_pos = -6\n",
    "            next_pos = next_pos + 16\n",
    "            font = ImageFont.truetype(font, font_size)\n",
    "            # 这里会报错，'numpy.ndarray' object has no attribute 'load'\n",
    "            if j == 0:\n",
    "                img = Image.fromarray(img)\n",
    "            draw = ImageDraw.Draw(img)\n",
    "            # 字体窄一些\n",
    "            draw.text((pos, y_pos), num[j], font=font, fill=self.__get_color__())\n",
    "            # img = cv2.cvtColor(np.asarray(img), cv2.COLOR_RGB2BGR)\n",
    "        # 画1个正方形\n",
    "        # square_pos = np.random.randint(0, 4)\n",
    "        # square_size = 17\n",
    "        # cv2.fillPoly(img, np.array([[[square_pos, square_pos], [square_size, square_pos], [square_size, square_size], [square_pos, square_size]]]), self.__get_color__())\n",
    "        return np.asarray(img)\n"
   ]
  },
  {
   "cell_type": "code",
   "execution_count": 3,
   "metadata": {},
   "outputs": [],
   "source": [
    "# 定义数据生成器\n",
    "from keras.utils import Sequence\n",
    "import random\n",
    "\n",
    "char = string.digits\n",
    "gbk_char = '会开空宝光玉珠声气流影插翅难飞水阔山高惊天动地落叶归根两小无猜金玉良缘黄道吉日'\n",
    "class CaptchaSequence(Sequence):\n",
    "    def __init__(self, char, gbk_char, batch_size, steps, n_len=5, width=118, height=25):\n",
    "        self.batch_size = batch_size\n",
    "        self.steps = steps\n",
    "        self.n_len = n_len\n",
    "        self.width = width\n",
    "        self.height = height\n",
    "        self.characters = char+gbk_char\n",
    "        self.n_class = len(self.characters)\n",
    "        self.generator = get_captcha(width=width, height=height, length=n_len)\n",
    "    \n",
    "    def __len__(self):\n",
    "        return self.steps\n",
    "\n",
    "    def __getitem__(self, idx):\n",
    "        X = np.zeros((self.batch_size, self.height, self.width, 3), dtype=np.float32)\n",
    "        y = [np.zeros((self.batch_size, self.n_class), dtype=np.uint8) for i in range(self.n_len)]\n",
    "        gbk_index = np.random.randint(0, 4)\n",
    "        num = [char[np.random.randint(0, len(char))] if i != gbk_index else gbk_char[np.random.randint(0, len(gbk_char))] for i in range(self.n_len)]\n",
    "        for i in range(self.batch_size):\n",
    "            X[i] = np.stack(self.generator.get_image(num, gbk_index)) / 255.0\n",
    "            for j, ch in enumerate(num):\n",
    "                y[j][i, :] = 0\n",
    "                y[j][i, self.characters.find(ch)] = 1\n",
    "        return X, y"
   ]
  },
  {
   "cell_type": "code",
   "execution_count": 4,
   "metadata": {},
   "outputs": [
    {
     "data": {
      "text/plain": [
       "Text(0.5, 1.0, '31会72')"
      ]
     },
     "execution_count": 4,
     "metadata": {},
     "output_type": "execute_result"
    },
    {
     "data": {
      "image/png": "[encoded data removed]",
      "text/plain": [
       "<Figure size 640x480 with 1 Axes>"
      ]
     },
     "metadata": {},
     "output_type": "display_data"
    }
   ],
   "source": [
    "# 测试生成器\n",
    "characters = char + gbk_char\n",
    "def decode(y):\n",
    "    y = np.argmax(np.array(y), axis=2)[:,0]\n",
    "    return ''.join([characters[x] for x in y])\n",
    "data = CaptchaSequence(char, gbk_char, batch_size=128, steps=2)\n",
    "X, y = data[0]\n",
    "plt.imshow(cv2.cvtColor(X[0], cv2.COLOR_BGR2RGB))\n",
    "plt.title(decode(y))"
   ]
  },
  {
   "cell_type": "code",
   "execution_count": 5,
   "metadata": {},
   "outputs": [],
   "source": [
    "# 定义loss\n",
    "def ctc_lambda_func(args):\n",
    "    y_pred, labels, input_length, label_length = args\n",
    "    return tf.compat.v1.keras.backend.ctc_batch_cost(labels, y_pred, input_length, label_length)"
   ]
  },
  {
   "cell_type": "code",
   "execution_count": 6,
   "metadata": {},
   "outputs": [],
   "source": [
    "# 定义网络结构\n",
    "from keras.models import *\n",
    "from keras.layers import *\n",
    "input_tensor = Input((25, 118, 3))\n",
    "x = input_tensor\n",
    "for i, n_cnn in enumerate([2, 2, 2, 2, 2]):\n",
    "    for j in range(n_cnn):\n",
    "        x = Conv2D(32*2**min(i, 3), kernel_size=3, padding='same', kernel_initializer='he_uniform')(x)\n",
    "        x = BatchNormalization()(x)\n",
    "        x = Activation('relu')(x)\n",
    "    x = MaxPooling2D(2 if i < 3 else (2, 1), padding='same')(x)\n",
    "\n",
    "x = Permute((2, 1, 3))(x)\n",
    "x = TimeDistributed(Flatten())(x)\n",
    "\n",
    "rnn_size = 128\n",
    "x = Bidirectional(CuDNNGRU(rnn_size, return_sequences=True))(x)\n",
    "x = Bidirectional(CuDNNGRU(rnn_size, return_sequences=True))(x)\n",
    "\n",
    "x = Dense(len(char+gbk_char)+1, activation='softmax')(x)\n",
    "\n",
    "base_model = Model(inputs=input_tensor, outputs=x)"
   ]
  },
  {
   "cell_type": "code",
   "execution_count": 7,
   "metadata": {},
   "outputs": [],
   "source": [
    "# 定义模型\n",
    "labels = Input(name='the_labels', shape=[5], dtype='float32')\n",
    "input_length = Input(name='input_length', shape=[1], dtype='int64')\n",
    "label_length = Input(name='label_length', shape=[1], dtype='int64')\n",
    "loss_out = Lambda(ctc_lambda_func, output_shape=(1,), name='ctc')([x, labels, input_length, label_length])\n",
    "\n",
    "model = Model(inputs=[input_tensor, labels, input_length, label_length], outputs=loss_out)"
   ]
  },
  {
   "cell_type": "code",
   "execution_count": 8,
   "metadata": {},
   "outputs": [
    {
     "name": "stdout",
     "output_type": "stream",
     "text": [
      "Model: \"model\"\n",
      "_________________________________________________________________\n",
      " Layer (type)                Output Shape              Param #   \n",
      "=================================================================\n",
      " input_1 (InputLayer)        [(None, 25, 118, 3)]      0         \n",
      "                                                                 \n",
      " conv2d (Conv2D)             (None, 25, 118, 32)       896       \n",
      "                                                                 \n",
      " batch_normalization (BatchN  (None, 25, 118, 32)      128       \n",
      " ormalization)                                                   \n",
      "                                                                 \n",
      " activation (Activation)     (None, 25, 118, 32)       0         \n",
      "                                                                 \n",
      " conv2d_1 (Conv2D)           (None, 25, 118, 32)       9248      \n",
      "                                                                 \n",
      " batch_normalization_1 (Batc  (None, 25, 118, 32)      128       \n",
      " hNormalization)                                                 \n",
      "                                                                 \n",
      " activation_1 (Activation)   (None, 25, 118, 32)       0         \n",
      "                                                                 \n",
      " max_pooling2d (MaxPooling2D  (None, 13, 59, 32)       0         \n",
      " )                                                               \n",
      "                                                                 \n",
      " conv2d_2 (Conv2D)           (None, 13, 59, 64)        18496     \n",
      "                                                                 \n",
      " batch_normalization_2 (Batc  (None, 13, 59, 64)       256       \n",
      " hNormalization)                                                 \n",
      "                                                                 \n",
      " activation_2 (Activation)   (None, 13, 59, 64)        0         \n",
      "                                                                 \n",
      " conv2d_3 (Conv2D)           (None, 13, 59, 64)        36928     \n",
      "                                                                 \n",
      " batch_normalization_3 (Batc  (None, 13, 59, 64)       256       \n",
      " hNormalization)                                                 \n",
      "                                                                 \n",
      " activation_3 (Activation)   (None, 13, 59, 64)        0         \n",
      "                                                                 \n",
      " max_pooling2d_1 (MaxPooling  (None, 7, 30, 64)        0         \n",
      " 2D)                                                             \n",
      "                                                                 \n",
      " conv2d_4 (Conv2D)           (None, 7, 30, 128)        73856     \n",
      "                                                                 \n",
      " batch_normalization_4 (Batc  (None, 7, 30, 128)       512       \n",
      " hNormalization)                                                 \n",
      "                                                                 \n",
      " activation_4 (Activation)   (None, 7, 30, 128)        0         \n",
      "                                                                 \n",
      " conv2d_5 (Conv2D)           (None, 7, 30, 128)        147584    \n",
      "                                                                 \n",
      " batch_normalization_5 (Batc  (None, 7, 30, 128)       512       \n",
      " hNormalization)                                                 \n",
      "                                                                 \n",
      " activation_5 (Activation)   (None, 7, 30, 128)        0         \n",
      "                                                                 \n",
      " max_pooling2d_2 (MaxPooling  (None, 4, 15, 128)       0         \n",
      " 2D)                                                             \n",
      "                                                                 \n",
      " conv2d_6 (Conv2D)           (None, 4, 15, 256)        295168    \n",
      "                                                                 \n",
      " batch_normalization_6 (Batc  (None, 4, 15, 256)       1024      \n",
      " hNormalization)                                                 \n",
      "                                                                 \n",
      " activation_6 (Activation)   (None, 4, 15, 256)        0         \n",
      "                                                                 \n",
      " conv2d_7 (Conv2D)           (None, 4, 15, 256)        590080    \n",
      "                                                                 \n",
      " batch_normalization_7 (Batc  (None, 4, 15, 256)       1024      \n",
      " hNormalization)                                                 \n",
      "                                                                 \n",
      " activation_7 (Activation)   (None, 4, 15, 256)        0         \n",
      "                                                                 \n",
      " max_pooling2d_3 (MaxPooling  (None, 2, 15, 256)       0         \n",
      " 2D)                                                             \n",
      "                                                                 \n",
      " conv2d_8 (Conv2D)           (None, 2, 15, 256)        590080    \n",
      "                                                                 \n",
      " batch_normalization_8 (Batc  (None, 2, 15, 256)       1024      \n",
      " hNormalization)                                                 \n",
      "                                                                 \n",
      " activation_8 (Activation)   (None, 2, 15, 256)        0         \n",
      "                                                                 \n",
      " conv2d_9 (Conv2D)           (None, 2, 15, 256)        590080    \n",
      "                                                                 \n",
      " batch_normalization_9 (Batc  (None, 2, 15, 256)       1024      \n",
      " hNormalization)                                                 \n",
      "                                                                 \n",
      " activation_9 (Activation)   (None, 2, 15, 256)        0         \n",
      "                                                                 \n",
      " max_pooling2d_4 (MaxPooling  (None, 1, 15, 256)       0         \n",
      " 2D)                                                             \n",
      "                                                                 \n",
      " permute (Permute)           (None, 15, 1, 256)        0         \n",
      "                                                                 \n",
      " time_distributed (TimeDistr  (None, 15, 256)          0         \n",
      " ibuted)                                                         \n",
      "                                                                 \n",
      " bidirectional (Bidirectiona  (None, 15, 256)          296448    \n",
      " l)                                                              \n",
      "                                                                 \n",
      " bidirectional_1 (Bidirectio  (None, 15, 256)          296448    \n",
      " nal)                                                            \n",
      "                                                                 \n",
      " dense (Dense)               (None, 15, 50)            12850     \n",
      "                                                                 \n",
      "=================================================================\n",
      "Total params: 2,964,050\n",
      "Trainable params: 2,961,106\n",
      "Non-trainable params: 2,944\n",
      "_________________________________________________________________\n"
     ]
    }
   ],
   "source": [
    "from keras.utils import plot_model\n",
    "\n",
    "plot_model(model, to_file='ctc.png', show_shapes=True)\n",
    "base_model.summary()"
   ]
  },
  {
   "cell_type": "code",
   "execution_count": 9,
   "metadata": {},
   "outputs": [],
   "source": [
    "# 准确率回调函数\n",
    "from tqdm import tqdm\n",
    "import keras.backend as K\n",
    "def evaluate(model, batch_size=128, steps=20):\n",
    "    batch_acc = 0\n",
    "    valid_data = CaptchaSequence(characters, batch_size, steps)\n",
    "    for [X_test, y_test, _, _], _ in valid_data:\n",
    "        y_pred = base_model.predict(X_test)\n",
    "        shape = y_pred.shape\n",
    "        out = K.get_value(K.ctc_decode(y_pred, input_length=np.ones(shape[0])*shape[1])[0][0])[:, :4]\n",
    "        if out.shape[1] == 4:\n",
    "            batch_acc += (y_test == out).all(axis=1).mean()\n",
    "    return batch_acc / steps\n",
    "\n",
    "from keras.callbacks import Callback\n",
    "\n",
    "class Evaluate(Callback):\n",
    "    def __init__(self):\n",
    "        self.accs = []\n",
    "    \n",
    "    def on_epoch_end(self, epoch, logs=None):\n",
    "        logs = logs or {}\n",
    "        acc = evaluate(base_model)\n",
    "        logs['val_acc'] = acc\n",
    "        self.accs.append(acc)\n",
    "        print(f'\\nacc: {acc*100:.4f}')"
   ]
  },
  {
   "cell_type": "code",
   "execution_count": 10,
   "metadata": {},
   "outputs": [
    {
     "name": "stdout",
     "output_type": "stream",
     "text": [
      "Epoch 1/100\n"
     ]
    },
    {
     "ename": "ValueError",
     "evalue": "in user code:\n\n    File \"/home/joey/miniconda3/envs/ml/lib/python3.10/site-packages/keras/engine/training.py\", line 1249, in train_function  *\n        return step_function(self, iterator)\n    File \"/home/joey/miniconda3/envs/ml/lib/python3.10/site-packages/keras/engine/training.py\", line 1233, in step_function  **\n        outputs = model.distribute_strategy.run(run_step, args=(data,))\n    File \"/home/joey/miniconda3/envs/ml/lib/python3.10/site-packages/keras/engine/training.py\", line 1222, in run_step  **\n        outputs = model.train_step(data)\n    File \"/home/joey/miniconda3/envs/ml/lib/python3.10/site-packages/keras/engine/training.py\", line 1023, in train_step\n        y_pred = self(x, training=True)\n    File \"/home/joey/miniconda3/envs/ml/lib/python3.10/site-packages/keras/utils/traceback_utils.py\", line 70, in error_handler\n        raise e.with_traceback(filtered_tb) from None\n    File \"/home/joey/miniconda3/envs/ml/lib/python3.10/site-packages/keras/engine/input_spec.py\", line 216, in assert_input_compatibility\n        raise ValueError(\n\n    ValueError: Layer \"model_1\" expects 4 input(s), but it received 1 input tensors. Inputs received: [<tf.Tensor 'IteratorGetNext:0' shape=(None, None, None, None) dtype=float32>]\n",
     "output_type": "error",
     "traceback": [
      "\u001b[0;31m---------------------------------------------------------------------------\u001b[0m",
      "\u001b[0;31mValueError\u001b[0m                                Traceback (most recent call last)",
      "Cell \u001b[0;32mIn[10], line 9\u001b[0m\n\u001b[1;32m      6\u001b[0m callbacks \u001b[39m=\u001b[39m [EarlyStopping(patience\u001b[39m=\u001b[39m\u001b[39m5\u001b[39m), Evaluate(), CSVLogger(\u001b[39m'\u001b[39m\u001b[39mctc.csv\u001b[39m\u001b[39m'\u001b[39m), ModelCheckpoint(\u001b[39m'\u001b[39m\u001b[39mctc_best.h5\u001b[39m\u001b[39m'\u001b[39m, save_best_only\u001b[39m=\u001b[39m\u001b[39mTrue\u001b[39;00m)]\n\u001b[1;32m      8\u001b[0m model\u001b[39m.\u001b[39mcompile(loss\u001b[39m=\u001b[39m{\u001b[39m'\u001b[39m\u001b[39mctc\u001b[39m\u001b[39m'\u001b[39m: \u001b[39mlambda\u001b[39;00m y_true, y_pred: y_pred}, optimizer\u001b[39m=\u001b[39mAdam(\u001b[39m1e-3\u001b[39m, amsgrad\u001b[39m=\u001b[39m\u001b[39mTrue\u001b[39;00m))\n\u001b[0;32m----> 9\u001b[0m model\u001b[39m.\u001b[39;49mfit(train_data, epochs\u001b[39m=\u001b[39;49m\u001b[39m100\u001b[39;49m, validation_data\u001b[39m=\u001b[39;49mvalid_data, workers\u001b[39m=\u001b[39;49m\u001b[39m0\u001b[39;49m, use_multiprocessing\u001b[39m=\u001b[39;49m\u001b[39mTrue\u001b[39;49;00m, callbacks\u001b[39m=\u001b[39;49mcallbacks)\n",
      "File \u001b[0;32m~/miniconda3/envs/ml/lib/python3.10/site-packages/keras/utils/traceback_utils.py:70\u001b[0m, in \u001b[0;36mfilter_traceback.<locals>.error_handler\u001b[0;34m(*args, **kwargs)\u001b[0m\n\u001b[1;32m     67\u001b[0m     filtered_tb \u001b[39m=\u001b[39m _process_traceback_frames(e\u001b[39m.\u001b[39m__traceback__)\n\u001b[1;32m     68\u001b[0m     \u001b[39m# To get the full stack trace, call:\u001b[39;00m\n\u001b[1;32m     69\u001b[0m     \u001b[39m# `tf.debugging.disable_traceback_filtering()`\u001b[39;00m\n\u001b[0;32m---> 70\u001b[0m     \u001b[39mraise\u001b[39;00m e\u001b[39m.\u001b[39mwith_traceback(filtered_tb) \u001b[39mfrom\u001b[39;00m \u001b[39mNone\u001b[39m\n\u001b[1;32m     71\u001b[0m \u001b[39mfinally\u001b[39;00m:\n\u001b[1;32m     72\u001b[0m     \u001b[39mdel\u001b[39;00m filtered_tb\n",
      "File \u001b[0;32m/tmp/__autograph_generated_file3hedate2.py:15\u001b[0m, in \u001b[0;36mouter_factory.<locals>.inner_factory.<locals>.tf__train_function\u001b[0;34m(iterator)\u001b[0m\n\u001b[1;32m     13\u001b[0m \u001b[39mtry\u001b[39;00m:\n\u001b[1;32m     14\u001b[0m     do_return \u001b[39m=\u001b[39m \u001b[39mTrue\u001b[39;00m\n\u001b[0;32m---> 15\u001b[0m     retval_ \u001b[39m=\u001b[39m ag__\u001b[39m.\u001b[39mconverted_call(ag__\u001b[39m.\u001b[39mld(step_function), (ag__\u001b[39m.\u001b[39mld(\u001b[39mself\u001b[39m), ag__\u001b[39m.\u001b[39mld(iterator)), \u001b[39mNone\u001b[39;00m, fscope)\n\u001b[1;32m     16\u001b[0m \u001b[39mexcept\u001b[39;00m:\n\u001b[1;32m     17\u001b[0m     do_return \u001b[39m=\u001b[39m \u001b[39mFalse\u001b[39;00m\n",
      "\u001b[0;31mValueError\u001b[0m: in user code:\n\n    File \"/home/joey/miniconda3/envs/ml/lib/python3.10/site-packages/keras/engine/training.py\", line 1249, in train_function  *\n        return step_function(self, iterator)\n    File \"/home/joey/miniconda3/envs/ml/lib/python3.10/site-packages/keras/engine/training.py\", line 1233, in step_function  **\n        outputs = model.distribute_strategy.run(run_step, args=(data,))\n    File \"/home/joey/miniconda3/envs/ml/lib/python3.10/site-packages/keras/engine/training.py\", line 1222, in run_step  **\n        outputs = model.train_step(data)\n    File \"/home/joey/miniconda3/envs/ml/lib/python3.10/site-packages/keras/engine/training.py\", line 1023, in train_step\n        y_pred = self(x, training=True)\n    File \"/home/joey/miniconda3/envs/ml/lib/python3.10/site-packages/keras/utils/traceback_utils.py\", line 70, in error_handler\n        raise e.with_traceback(filtered_tb) from None\n    File \"/home/joey/miniconda3/envs/ml/lib/python3.10/site-packages/keras/engine/input_spec.py\", line 216, in assert_input_compatibility\n        raise ValueError(\n\n    ValueError: Layer \"model_1\" expects 4 input(s), but it received 1 input tensors. Inputs received: [<tf.Tensor 'IteratorGetNext:0' shape=(None, None, None, None) dtype=float32>]\n"
     ]
    }
   ],
   "source": [
    "from keras.callbacks import EarlyStopping, CSVLogger, ModelCheckpoint\n",
    "from keras.optimizers import *\n",
    "\n",
    "train_data = CaptchaSequence(char, gbk_char, batch_size=520, steps=1000)\n",
    "valid_data = CaptchaSequence(char, gbk_char, batch_size=520, steps=100)\n",
    "callbacks = [EarlyStopping(patience=5), Evaluate(), CSVLogger('ctc.csv'), ModelCheckpoint('ctc_best.h5', save_best_only=True)]\n",
    "\n",
    "model.compile(loss={'ctc': lambda y_true, y_pred: y_pred}, optimizer=Adam(1e-3, amsgrad=True))\n",
    "model.fit(train_data, epochs=100, validation_data=valid_data, workers=0, use_multiprocessing=True, callbacks=callbacks)"
   ]
  },
  {
   "cell_type": "code",
   "execution_count": null,
   "metadata": {},
   "outputs": [],
   "source": [
    "model.load_weights('cnn_best.h5')\n",
    "X, y = data[0]\n",
    "y_pred = model.predict(X)\n",
    "plt.title('real: %s\\npred:%s'%(decode(y), decode(y_pred)))\n",
    "plt.imshow(X[0], cmap='gray')\n",
    "plt.axis('off')"
   ]
  }
 ],
 "metadata": {
  "kernelspec": {
   "display_name": "ml",
   "language": "python",
   "name": "python3"
  },
  "language_info": {
   "codemirror_mode": {
    "name": "ipython",
    "version": 3
   },
   "file_extension": ".py",
   "mimetype": "text/x-python",
   "name": "python",
   "nbconvert_exporter": "python",
   "pygments_lexer": "ipython3",
   "version": "3.10.8"
  },
  "orig_nbformat": 4,
  "vscode": {
   "interpreter": {
    "hash": "e8a90df5d6227c276b3f0b001ea27e1e3162dd9e2a19770a103956175e7b9111"
   }
  }
 },
 "nbformat": 4,
 "nbformat_minor": 2
}
