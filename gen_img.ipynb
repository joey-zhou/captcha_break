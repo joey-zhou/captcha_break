{
 "cells": [
  {
   "cell_type": "code",
   "execution_count": 29,
   "metadata": {},
   "outputs": [
    {
     "data": {
      "image/png": "[encoded data removed]",
      "text/plain": [
       "<PIL.Image.Image image mode=RGB size=118x25>"
      ]
     },
     "execution_count": 29,
     "metadata": {},
     "output_type": "execute_result"
    }
   ],
   "source": [
    "import cv2, numpy as np, matplotlib.pyplot as plt\n",
    "from matplotlib.font_manager import FontProperties\n",
    "import string\n",
    "from PIL import Image, ImageDraw, ImageFont\n",
    "# from IPython.display import Image as im\n",
    "# font = FontProperties(fname='三极正黑体.ttf')\n",
    "class get_captcha():\n",
    "    def __init__(self, width, height, length):\n",
    "        self.width = width\n",
    "        self.height = height\n",
    "        self.length = length\n",
    "    \n",
    "    def __get_color__(self):\n",
    "        return (np.random.randint(0, 255) , np.random.randint(0, 255), np.random.randint(0, 255))\n",
    "    \n",
    "    def __get_pos__(self, x_start, x_end, y_start, y_end):\n",
    "        return np.random.randint(x_start, x_end), np.random.randint(y_start, y_end)\n",
    "\n",
    "    def get_image(self, num, gbk_index):\n",
    "        img = np.zeros((self.height, self.width, 3), np.uint8)\n",
    "        img.fill(255)\n",
    "        # 验证码开始地址\n",
    "        x_start = 18\n",
    "        # 汉字验证码位置\n",
    "        next_pos = 18\n",
    "        line_num = np.random.randint(3, 9)\n",
    "        # 画干扰线\n",
    "        for j in range(line_num):\n",
    "            cv2.line(img, self.__get_pos__(0, self.width, 0, self.height), self.__get_pos__(0, self.width, 0, self.height), self.__get_color__(), 1, cv2.LINE_8)\n",
    "        # 画验证码\n",
    "        for j in range(self.length):\n",
    "            pos = next_pos\n",
    "            font_size = 28\n",
    "            font = '汉仪旗黑-50.ttf'\n",
    "            y_pos = -10\n",
    "            # 汉字位置\n",
    "            if gbk_index == j:\n",
    "                font_size = 22\n",
    "                font = '汉仪字典宋.ttf'\n",
    "                pos = pos - np.random.randint(3, 5)\n",
    "                y_pos = -6\n",
    "            next_pos = next_pos + 16\n",
    "            font = ImageFont.truetype(font, font_size)\n",
    "            # 这里会报错，'numpy.ndarray' object has no attribute 'load'\n",
    "            if j == 0:\n",
    "                img = Image.fromarray(img)\n",
    "            draw = ImageDraw.Draw(img)\n",
    "            # 字体窄一些\n",
    "            draw.text((pos, y_pos), num[j], font=font, fill=self.__get_color__())\n",
    "            # img = cv2.cvtColor(np.asarray(img), cv2.COLOR_RGB2BGR)\n",
    "        # 画1个正方形\n",
    "        # square_pos = np.random.randint(0, 4)\n",
    "        # square_size = 17\n",
    "        # cv2.fillPoly(img, np.array([[[square_pos, square_pos], [square_size, square_pos], [square_size, square_size], [square_pos, square_size]]]), self.__get_color__())\n",
    "        return img\n",
    "\n",
    "get_captcha(118, 25, 5).get_image('12辅84', 2)"
   ]
  }
 ],
 "metadata": {
  "kernelspec": {
   "display_name": "ml",
   "language": "python",
   "name": "python3"
  },
  "language_info": {
   "codemirror_mode": {
    "name": "ipython",
    "version": 3
   },
   "file_extension": ".py",
   "mimetype": "text/x-python",
   "name": "python",
   "nbconvert_exporter": "python",
   "pygments_lexer": "ipython3",
   "version": "3.10.8"
  },
  "orig_nbformat": 4,
  "vscode": {
   "interpreter": {
    "hash": "e8a90df5d6227c276b3f0b001ea27e1e3162dd9e2a19770a103956175e7b9111"
   }
  }
 },
 "nbformat": 4,
 "nbformat_minor": 2
}
